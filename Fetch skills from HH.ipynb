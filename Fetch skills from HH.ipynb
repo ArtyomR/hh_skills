{
 "cells": [
  {
   "cell_type": "markdown",
   "id": "b52bb067",
   "metadata": {},
   "source": [
    "# Извлечение навыков из вакансий на сайте hh.ru"
   ]
  },
  {
   "cell_type": "markdown",
   "id": "226e9bd1",
   "metadata": {},
   "source": [
    "Версия: 1.0 15.11.23  \n",
    "Автор: [ArtyomR](https://github.com/ArtyomR)  \n",
    "Источник: https://github.com/ArtyomR/hh_skills/  \n",
    "Если Вы воспользовались этой тетрадкой и Вам пригодился рузльтат или просто понравилось, то отметьте её, пожалуйста, звездой."
   ]
  },
  {
   "cell_type": "markdown",
   "id": "f7ab693f",
   "metadata": {},
   "source": [
    "## Задача и подход к решению "
   ]
  },
  {
   "cell_type": "markdown",
   "id": "1cd4793c",
   "metadata": {},
   "source": [
    "**Задача:**  \n",
    "Достаточно часто нужно понять какие требования к навыкам предъявляют работодатели к кандидатам на вакансии по определённым специальностям.  \n",
    "**Подход к решению:**  \n",
    "В этой тетрадке я использовал информацию, которую можно получить с сайта hh.ru. В вакансиях, публикуемых на hh.ru, информация о требованиях к навыкам кандидата расположена в 2х разделах\n",
    "- Ключевые навыки\n",
    "- Описание\n",
    "<br>\n",
    "<br>\n",
    "Я извлеку данные из этих разделов и посмотрю, какие из них наиболее востребованы."
   ]
  },
  {
   "cell_type": "markdown",
   "id": "d6a40df5",
   "metadata": {},
   "source": [
    "## Загружаем необходимые библиотеки"
   ]
  },
  {
   "cell_type": "code",
   "execution_count": 2,
   "id": "f35a9cd2",
   "metadata": {},
   "outputs": [],
   "source": [
    "import requests\n",
    "import json\n",
    "import pandas as pd\n",
    "from bs4 import BeautifulSoup\n",
    "import matplotlib.pyplot as plt"
   ]
  },
  {
   "cell_type": "markdown",
   "id": "aea728c7",
   "metadata": {},
   "source": [
    "## Создаём функции для считывания вакансий, сохранения их в файл и чтения из файла"
   ]
  },
  {
   "cell_type": "code",
   "execution_count": 1,
   "id": "cfbb0652",
   "metadata": {},
   "outputs": [],
   "source": [
    "def fetch_vacancies_ids(query):\n",
    "    raw_json = requests.get(\n",
    "        'https://api.hh.ru/vacancies/',\n",
    "        params={\n",
    "            'text': query,\n",
    "            'per_page': 100,\n",
    "            'search_field': 'name',\n",
    "        },\n",
    "    ).json()\n",
    "    return [v['id'] for v in raw_json['items']]\n",
    "\n",
    "def fetch_vacancy_details(vacancy_id):\n",
    "    return requests.get(\n",
    "        f'https://api.hh.ru/vacancies/{vacancy_id}'\n",
    "    ).json()\n",
    "\n",
    "def dump_vacancies_to_json(vacancies, filepath):\n",
    "    with open(filepath, 'w') as file_handler:\n",
    "        json.dump(vacancies, file_handler)\n",
    "        \n",
    "def load_vacancies_from_file(filepath):\n",
    "    with open(filepath, 'r') as file_handler:\n",
    "        raw_vacancies = json.load(file_handler)\n",
    "    return [v for v in raw_vacancies if 'id' in v]"
   ]
  },
  {
   "cell_type": "markdown",
   "id": "d2deb5bd",
   "metadata": {},
   "source": [
    "## Считываем вакансии с hh.ru"
   ]
  },
  {
   "cell_type": "code",
   "execution_count": 3,
   "id": "3f25a651",
   "metadata": {},
   "outputs": [
    {
     "data": {
      "text/plain": [
       "[{'id': '89425338',\n",
       "  'premium': False,\n",
       "  'billing_type': {'id': 'free', 'name': 'Бесплатная'},\n",
       "  'relations': [],\n",
       "  'name': 'Аналитик данных / Статистик',\n",
       "  'insider_interview': None,\n",
       "  'response_letter_required': False,\n",
       "  'area': {'id': '1002',\n",
       "   'name': 'Минск',\n",
       "   'url': 'https://api.hh.ru/areas/1002'},\n",
       "  'salary': {'from': 750, 'to': None, 'currency': 'BYR', 'gross': False},\n",
       "  'type': {'id': 'open', 'name': 'Открытая'},\n",
       "  'address': None,\n",
       "  'allow_messages': True,\n",
       "  'experience': {'id': 'noExperience', 'name': 'Нет опыта'},\n",
       "  'schedule': {'id': 'fullDay', 'name': 'Полный день'},\n",
       "  'employment': {'id': 'part', 'name': 'Частичная занятость'},\n",
       "  'department': None,\n",
       "  'contacts': None,\n",
       "  'description': '<p>Open Business Analytics это современная и уникальная аналитическая платформа, специализирующаяся на исследовании розничного рынка продаж и покупательского поведения. Используя банковские транзакции, мы можем точно и ежедневно отслеживать динамику развития вплоть до отдельной точки продаж. Мы - стартап, основанный в 2020 году. Сейчас тестируем и развиваем продукт на белорусском рынке и готовимся к выходу в другие страны.</p> <p> </p> <p>Точность метрик, их близость к и высокая корреляция с фактическими данными является залогом доверия клиентов и ценности нашего продукта. Поэтому в нашу команду мы ищем специалиста, который будет заниматься одним важным компонентом продукта: моделированием и экстраполяцией метрик продаж. Вам предстоит извлечь максимальную пользу из уникального платежного поведения клиентов различных банков, а также решить задачу неравномерного географического распределения банковских клиентов.</p> <p> </p> <p><strong>Обязанности:</strong></p> <ul> <li> <p>⛏️ Сбор и систематизация финансовых данных для верификации метрик. Использование публичных финансовых отчетов и других источников для проверки экстраполированных метрик и обеспечения точных оценок метрик.</p> </li> <li> <p>Контроль качества входящих данных, а также качества классификации транзакций.</p> </li> <li> <p>Построение и проверка качества индивидуальных моделей.</p> </li> <li> <p>Улучшение текущих способов, моделей и алгоритмов экстраполяции метрик.</p> </li> </ul> <p>Будьте готовы инвестировать время в подготовку качественных данных для последующего моделирования.</p> <p> </p> <p><strong>Требования:</strong></p> <ul> <li> <p>Знание статистики: анализ и прогнозирование временных рядов.</p> </li> <li> <p>Понимание регрессионных алгоритмов и базовых принципов ML.</p> </li> <li> <p>Отличное владение Excel / Google Sheets.</p> </li> <li> <p>Базовое знание SQL.</p> </li> <li> <p>Уверенное владение основами Python.</p> </li> </ul> <p> </p> <p><strong>Условия:</strong></p> <ul> <li> <p>Занятость планируется на уровне 20 часов в неделю с гибким графиком. В будущем возможен переход на полную ставку.</p> </li> <li> <p>Рассматриваются кандидаты с разным уровнем опыта (в том числе студенты старших курсов).</p> </li> </ul>',\n",
       "  'branded_description': None,\n",
       "  'vacancy_constructor_template': None,\n",
       "  'key_skills': [{'name': 'Статистика, Python, SQL регрессионные алгоритмы, ML, Excel'}],\n",
       "  'accept_handicapped': False,\n",
       "  'accept_kids': False,\n",
       "  'archived': False,\n",
       "  'response_url': None,\n",
       "  'specializations': [],\n",
       "  'professional_roles': [{'id': '156',\n",
       "    'name': 'BI-аналитик, аналитик данных'}],\n",
       "  'code': None,\n",
       "  'hidden': False,\n",
       "  'quick_responses_allowed': False,\n",
       "  'driver_license_types': [],\n",
       "  'accept_incomplete_resumes': False,\n",
       "  'employer': {'id': '10540577',\n",
       "   'name': 'Айдоко',\n",
       "   'url': 'https://api.hh.ru/employers/10540577',\n",
       "   'alternate_url': 'https://hh.ru/employer/10540577',\n",
       "   'logo_urls': {'original': 'https://hhcdn.ru/employer-logo-original/1195184.png',\n",
       "    '90': 'https://hhcdn.ru/employer-logo/6401189.png'},\n",
       "   'vacancies_url': 'https://api.hh.ru/vacancies?employer_id=10540577',\n",
       "   'accredited_it_employer': False,\n",
       "   'trusted': True},\n",
       "  'published_at': '2023-11-14T11:43:08+0300',\n",
       "  'created_at': '2023-11-14T11:43:08+0300',\n",
       "  'initial_created_at': '2023-11-14T11:43:08+0300',\n",
       "  'negotiations_url': None,\n",
       "  'suitable_resumes_url': None,\n",
       "  'apply_alternate_url': 'https://hh.ru/applicant/vacancy_response?vacancyId=89425338',\n",
       "  'has_test': False,\n",
       "  'test': None,\n",
       "  'alternate_url': 'https://hh.ru/vacancy/89425338',\n",
       "  'working_days': [],\n",
       "  'working_time_intervals': [],\n",
       "  'working_time_modes': [],\n",
       "  'accept_temporary': False,\n",
       "  'languages': [{'id': 'eng',\n",
       "    'name': 'Английский',\n",
       "    'level': {'id': 'b1', 'name': 'B1 — Средний'}}]}]"
      ]
     },
     "execution_count": 3,
     "metadata": {},
     "output_type": "execute_result"
    }
   ],
   "source": [
    "vacancies_ids = fetch_vacancies_ids(query='аналитик данных')\n",
    "vacancies = [fetch_vacancy_details(vacancy_id=i) for i in vacancies_ids]\n",
    "vacancies[:1]"
   ]
  },
  {
   "cell_type": "code",
   "execution_count": 4,
   "id": "654f7f53",
   "metadata": {},
   "outputs": [
    {
     "name": "stdout",
     "output_type": "stream",
     "text": [
      "Количество считанных вакансий:  100\n"
     ]
    }
   ],
   "source": [
    "print('Количество считанных вакансий: ',len(vacancies))"
   ]
  },
  {
   "cell_type": "code",
   "execution_count": 5,
   "id": "9ff1eab3",
   "metadata": {},
   "outputs": [
    {
     "name": "stdout",
     "output_type": "stream",
     "text": [
      "Список элементов содержащихся в вакансии.\n"
     ]
    },
    {
     "data": {
      "text/plain": [
       "dict_keys(['id', 'premium', 'billing_type', 'relations', 'name', 'insider_interview', 'response_letter_required', 'area', 'salary', 'type', 'address', 'allow_messages', 'experience', 'schedule', 'employment', 'department', 'contacts', 'description', 'branded_description', 'vacancy_constructor_template', 'key_skills', 'accept_handicapped', 'accept_kids', 'archived', 'response_url', 'specializations', 'professional_roles', 'code', 'hidden', 'quick_responses_allowed', 'driver_license_types', 'accept_incomplete_resumes', 'employer', 'published_at', 'created_at', 'initial_created_at', 'negotiations_url', 'suitable_resumes_url', 'apply_alternate_url', 'has_test', 'test', 'alternate_url', 'working_days', 'working_time_intervals', 'working_time_modes', 'accept_temporary', 'languages'])"
      ]
     },
     "execution_count": 5,
     "metadata": {},
     "output_type": "execute_result"
    }
   ],
   "source": [
    "print('Список элементов содержащихся в вакансии.')\n",
    "vacancies[:1][0].keys()"
   ]
  },
  {
   "cell_type": "markdown",
   "id": "bf679a63",
   "metadata": {},
   "source": [
    "## Сохраняем вакансии в файл и записываем в DataFrame"
   ]
  },
  {
   "cell_type": "code",
   "execution_count": 6,
   "id": "70a3c70c",
   "metadata": {},
   "outputs": [],
   "source": [
    "dump_vacancies_to_json(vacancies, filepath='da_vacancies.json')"
   ]
  },
  {
   "cell_type": "code",
   "execution_count": 7,
   "id": "00c17e8e",
   "metadata": {
    "scrolled": true
   },
   "outputs": [
    {
     "data": {
      "text/html": [
       "<div>\n",
       "<style scoped>\n",
       "    .dataframe tbody tr th:only-of-type {\n",
       "        vertical-align: middle;\n",
       "    }\n",
       "\n",
       "    .dataframe tbody tr th {\n",
       "        vertical-align: top;\n",
       "    }\n",
       "\n",
       "    .dataframe thead th {\n",
       "        text-align: right;\n",
       "    }\n",
       "</style>\n",
       "<table border=\"1\" class=\"dataframe\">\n",
       "  <thead>\n",
       "    <tr style=\"text-align: right;\">\n",
       "      <th></th>\n",
       "      <th>id</th>\n",
       "      <th>premium</th>\n",
       "      <th>billing_type</th>\n",
       "      <th>relations</th>\n",
       "      <th>name</th>\n",
       "      <th>insider_interview</th>\n",
       "      <th>response_letter_required</th>\n",
       "      <th>area</th>\n",
       "      <th>salary</th>\n",
       "      <th>type</th>\n",
       "      <th>...</th>\n",
       "      <th>suitable_resumes_url</th>\n",
       "      <th>apply_alternate_url</th>\n",
       "      <th>has_test</th>\n",
       "      <th>test</th>\n",
       "      <th>alternate_url</th>\n",
       "      <th>working_days</th>\n",
       "      <th>working_time_intervals</th>\n",
       "      <th>working_time_modes</th>\n",
       "      <th>accept_temporary</th>\n",
       "      <th>languages</th>\n",
       "    </tr>\n",
       "  </thead>\n",
       "  <tbody>\n",
       "    <tr>\n",
       "      <th>0</th>\n",
       "      <td>89425338</td>\n",
       "      <td>False</td>\n",
       "      <td>{'id': 'free', 'name': 'Бесплатная'}</td>\n",
       "      <td>[]</td>\n",
       "      <td>Аналитик данных / Статистик</td>\n",
       "      <td>None</td>\n",
       "      <td>False</td>\n",
       "      <td>{'id': '1002', 'name': 'Минск', 'url': 'https:...</td>\n",
       "      <td>{'from': 750, 'to': None, 'currency': 'BYR', '...</td>\n",
       "      <td>{'id': 'open', 'name': 'Открытая'}</td>\n",
       "      <td>...</td>\n",
       "      <td>None</td>\n",
       "      <td>https://hh.ru/applicant/vacancy_response?vacan...</td>\n",
       "      <td>False</td>\n",
       "      <td>None</td>\n",
       "      <td>https://hh.ru/vacancy/89425338</td>\n",
       "      <td>[]</td>\n",
       "      <td>[]</td>\n",
       "      <td>[]</td>\n",
       "      <td>False</td>\n",
       "      <td>[{'id': 'eng', 'name': 'Английский', 'level': ...</td>\n",
       "    </tr>\n",
       "    <tr>\n",
       "      <th>1</th>\n",
       "      <td>89035627</td>\n",
       "      <td>False</td>\n",
       "      <td>{'id': 'standard', 'name': 'Стандарт'}</td>\n",
       "      <td>[]</td>\n",
       "      <td>Младший аналитик данных</td>\n",
       "      <td>None</td>\n",
       "      <td>False</td>\n",
       "      <td>{'id': '1', 'name': 'Москва', 'url': 'https://...</td>\n",
       "      <td>None</td>\n",
       "      <td>{'id': 'open', 'name': 'Открытая'}</td>\n",
       "      <td>...</td>\n",
       "      <td>None</td>\n",
       "      <td>https://hh.ru/applicant/vacancy_response?vacan...</td>\n",
       "      <td>False</td>\n",
       "      <td>None</td>\n",
       "      <td>https://hh.ru/vacancy/89035627</td>\n",
       "      <td>[]</td>\n",
       "      <td>[]</td>\n",
       "      <td>[]</td>\n",
       "      <td>False</td>\n",
       "      <td>[]</td>\n",
       "    </tr>\n",
       "    <tr>\n",
       "      <th>2</th>\n",
       "      <td>89444180</td>\n",
       "      <td>False</td>\n",
       "      <td>{'id': 'standard', 'name': 'Стандарт'}</td>\n",
       "      <td>[]</td>\n",
       "      <td>Аналитик данных мониторинга атмосферного воздуха</td>\n",
       "      <td>None</td>\n",
       "      <td>False</td>\n",
       "      <td>{'id': '1', 'name': 'Москва', 'url': 'https://...</td>\n",
       "      <td>{'from': 57000, 'to': None, 'currency': 'RUR',...</td>\n",
       "      <td>{'id': 'open', 'name': 'Открытая'}</td>\n",
       "      <td>...</td>\n",
       "      <td>None</td>\n",
       "      <td>https://hh.ru/applicant/vacancy_response?vacan...</td>\n",
       "      <td>False</td>\n",
       "      <td>None</td>\n",
       "      <td>https://hh.ru/vacancy/89444180</td>\n",
       "      <td>[]</td>\n",
       "      <td>[]</td>\n",
       "      <td>[]</td>\n",
       "      <td>False</td>\n",
       "      <td>[]</td>\n",
       "    </tr>\n",
       "    <tr>\n",
       "      <th>3</th>\n",
       "      <td>89380163</td>\n",
       "      <td>False</td>\n",
       "      <td>{'id': 'standard', 'name': 'Стандарт'}</td>\n",
       "      <td>[]</td>\n",
       "      <td>Аналитик данных (Data Science)</td>\n",
       "      <td>None</td>\n",
       "      <td>True</td>\n",
       "      <td>{'id': '2734', 'name': 'Иннополис', 'url': 'ht...</td>\n",
       "      <td>{'from': 50000, 'to': 100000, 'currency': 'RUR...</td>\n",
       "      <td>{'id': 'open', 'name': 'Открытая'}</td>\n",
       "      <td>...</td>\n",
       "      <td>None</td>\n",
       "      <td>https://hh.ru/applicant/vacancy_response?vacan...</td>\n",
       "      <td>False</td>\n",
       "      <td>None</td>\n",
       "      <td>https://hh.ru/vacancy/89380163</td>\n",
       "      <td>[]</td>\n",
       "      <td>[]</td>\n",
       "      <td>[]</td>\n",
       "      <td>True</td>\n",
       "      <td>[]</td>\n",
       "    </tr>\n",
       "    <tr>\n",
       "      <th>4</th>\n",
       "      <td>89396973</td>\n",
       "      <td>False</td>\n",
       "      <td>{'id': 'standard', 'name': 'Стандарт'}</td>\n",
       "      <td>[]</td>\n",
       "      <td>Аналитик данных</td>\n",
       "      <td>None</td>\n",
       "      <td>False</td>\n",
       "      <td>{'id': '76', 'name': 'Ростов-на-Дону', 'url': ...</td>\n",
       "      <td>{'from': 110000, 'to': 150000, 'currency': 'RU...</td>\n",
       "      <td>{'id': 'open', 'name': 'Открытая'}</td>\n",
       "      <td>...</td>\n",
       "      <td>None</td>\n",
       "      <td>https://hh.ru/applicant/vacancy_response?vacan...</td>\n",
       "      <td>False</td>\n",
       "      <td>None</td>\n",
       "      <td>https://hh.ru/vacancy/89396973</td>\n",
       "      <td>[]</td>\n",
       "      <td>[]</td>\n",
       "      <td>[]</td>\n",
       "      <td>False</td>\n",
       "      <td>[]</td>\n",
       "    </tr>\n",
       "  </tbody>\n",
       "</table>\n",
       "<p>5 rows × 47 columns</p>\n",
       "</div>"
      ],
      "text/plain": [
       "         id  premium                            billing_type relations  \\\n",
       "0  89425338    False    {'id': 'free', 'name': 'Бесплатная'}        []   \n",
       "1  89035627    False  {'id': 'standard', 'name': 'Стандарт'}        []   \n",
       "2  89444180    False  {'id': 'standard', 'name': 'Стандарт'}        []   \n",
       "3  89380163    False  {'id': 'standard', 'name': 'Стандарт'}        []   \n",
       "4  89396973    False  {'id': 'standard', 'name': 'Стандарт'}        []   \n",
       "\n",
       "                                               name insider_interview  \\\n",
       "0                       Аналитик данных / Статистик              None   \n",
       "1                           Младший аналитик данных              None   \n",
       "2  Аналитик данных мониторинга атмосферного воздуха              None   \n",
       "3                    Аналитик данных (Data Science)              None   \n",
       "4                                   Аналитик данных              None   \n",
       "\n",
       "   response_letter_required  \\\n",
       "0                     False   \n",
       "1                     False   \n",
       "2                     False   \n",
       "3                      True   \n",
       "4                     False   \n",
       "\n",
       "                                                area  \\\n",
       "0  {'id': '1002', 'name': 'Минск', 'url': 'https:...   \n",
       "1  {'id': '1', 'name': 'Москва', 'url': 'https://...   \n",
       "2  {'id': '1', 'name': 'Москва', 'url': 'https://...   \n",
       "3  {'id': '2734', 'name': 'Иннополис', 'url': 'ht...   \n",
       "4  {'id': '76', 'name': 'Ростов-на-Дону', 'url': ...   \n",
       "\n",
       "                                              salary  \\\n",
       "0  {'from': 750, 'to': None, 'currency': 'BYR', '...   \n",
       "1                                               None   \n",
       "2  {'from': 57000, 'to': None, 'currency': 'RUR',...   \n",
       "3  {'from': 50000, 'to': 100000, 'currency': 'RUR...   \n",
       "4  {'from': 110000, 'to': 150000, 'currency': 'RU...   \n",
       "\n",
       "                                 type  ... suitable_resumes_url  \\\n",
       "0  {'id': 'open', 'name': 'Открытая'}  ...                 None   \n",
       "1  {'id': 'open', 'name': 'Открытая'}  ...                 None   \n",
       "2  {'id': 'open', 'name': 'Открытая'}  ...                 None   \n",
       "3  {'id': 'open', 'name': 'Открытая'}  ...                 None   \n",
       "4  {'id': 'open', 'name': 'Открытая'}  ...                 None   \n",
       "\n",
       "                                 apply_alternate_url has_test  test  \\\n",
       "0  https://hh.ru/applicant/vacancy_response?vacan...    False  None   \n",
       "1  https://hh.ru/applicant/vacancy_response?vacan...    False  None   \n",
       "2  https://hh.ru/applicant/vacancy_response?vacan...    False  None   \n",
       "3  https://hh.ru/applicant/vacancy_response?vacan...    False  None   \n",
       "4  https://hh.ru/applicant/vacancy_response?vacan...    False  None   \n",
       "\n",
       "                    alternate_url working_days working_time_intervals  \\\n",
       "0  https://hh.ru/vacancy/89425338           []                     []   \n",
       "1  https://hh.ru/vacancy/89035627           []                     []   \n",
       "2  https://hh.ru/vacancy/89444180           []                     []   \n",
       "3  https://hh.ru/vacancy/89380163           []                     []   \n",
       "4  https://hh.ru/vacancy/89396973           []                     []   \n",
       "\n",
       "  working_time_modes accept_temporary  \\\n",
       "0                 []            False   \n",
       "1                 []            False   \n",
       "2                 []            False   \n",
       "3                 []             True   \n",
       "4                 []            False   \n",
       "\n",
       "                                           languages  \n",
       "0  [{'id': 'eng', 'name': 'Английский', 'level': ...  \n",
       "1                                                 []  \n",
       "2                                                 []  \n",
       "3                                                 []  \n",
       "4                                                 []  \n",
       "\n",
       "[5 rows x 47 columns]"
      ]
     },
     "execution_count": 7,
     "metadata": {},
     "output_type": "execute_result"
    }
   ],
   "source": [
    "vacancies_df=pd.DataFrame(vacancies)\n",
    "vacancies_df.head()"
   ]
  },
  {
   "cell_type": "markdown",
   "id": "348958f9",
   "metadata": {},
   "source": [
    "## Смотрим содержимое колонки key_skills"
   ]
  },
  {
   "cell_type": "code",
   "execution_count": 8,
   "id": "3c7789ec",
   "metadata": {},
   "outputs": [
    {
     "data": {
      "text/plain": [
       "0    [{'name': 'Статистика, Python, SQL регрессионн...\n",
       "1    [{'name': 'SQL'}, {'name': 'Разработка техниче...\n",
       "2                                                   []\n",
       "3    [{'name': 'Python'}, {'name': 'Математическая ...\n",
       "4                                                   []\n",
       "Name: key_skills, dtype: object"
      ]
     },
     "execution_count": 8,
     "metadata": {},
     "output_type": "execute_result"
    }
   ],
   "source": [
    "vacancies_df['key_skills'].head()"
   ]
  },
  {
   "cell_type": "code",
   "execution_count": 9,
   "id": "5b959219",
   "metadata": {},
   "outputs": [
    {
     "data": {
      "text/plain": [
       "67"
      ]
     },
     "execution_count": 9,
     "metadata": {},
     "output_type": "execute_result"
    }
   ],
   "source": [
    "# считаем сколько вакансий имеют 'key_skills'\n",
    "vacancies_df[vacancies_df['key_skills'].apply(len) != 0]['key_skills'].count()"
   ]
  },
  {
   "cell_type": "markdown",
   "id": "33a0ea28",
   "metadata": {},
   "source": [
    "## Смотрим содержимое колонки description"
   ]
  },
  {
   "cell_type": "code",
   "execution_count": 10,
   "id": "83cf4fa5",
   "metadata": {},
   "outputs": [
    {
     "data": {
      "text/plain": [
       "'<p>Open Business Analytics это современная и уникальная аналитическая платформа, специализирующаяся на исследовании розничного рынка продаж и покупательского поведения. Используя банковские транзакции, мы можем точно и ежедневно отслеживать динамику развития вплоть до отдельной точки продаж. Мы - стартап, основанный в 2020 году. Сейчас тестируем и развиваем продукт на белорусском рынке и готовимся к выходу в другие страны.</p> <p> </p> <p>Точность метрик, их близость к и высокая корреляция с фактическими данными является залогом доверия клиентов и ценности нашего продукта. Поэтому в нашу команду мы ищем специалиста, который будет заниматься одним важным компонентом продукта: моделированием и экстраполяцией метрик продаж. Вам предстоит извлечь максимальную пользу из уникального платежного поведения клиентов различных банков, а также решить задачу неравномерного географического распределения банковских клиентов.</p> <p> </p> <p><strong>Обязанности:</strong></p> <ul> <li> <p>⛏️ Сбор и систематизация финансовых данных для верификации метрик. Использование публичных финансовых отчетов и других источников для проверки экстраполированных метрик и обеспечения точных оценок метрик.</p> </li> <li> <p>Контроль качества входящих данных, а также качества классификации транзакций.</p> </li> <li> <p>Построение и проверка качества индивидуальных моделей.</p> </li> <li> <p>Улучшение текущих способов, моделей и алгоритмов экстраполяции метрик.</p> </li> </ul> <p>Будьте готовы инвестировать время в подготовку качественных данных для последующего моделирования.</p> <p> </p> <p><strong>Требования:</strong></p> <ul> <li> <p>Знание статистики: анализ и прогнозирование временных рядов.</p> </li> <li> <p>Понимание регрессионных алгоритмов и базовых принципов ML.</p> </li> <li> <p>Отличное владение Excel / Google Sheets.</p> </li> <li> <p>Базовое знание SQL.</p> </li> <li> <p>Уверенное владение основами Python.</p> </li> </ul> <p> </p> <p><strong>Условия:</strong></p> <ul> <li> <p>Занятость планируется на уровне 20 часов в неделю с гибким графиком. В будущем возможен переход на полную ставку.</p> </li> <li> <p>Рассматриваются кандидаты с разным уровнем опыта (в том числе студенты старших курсов).</p> </li> </ul>'"
      ]
     },
     "execution_count": 10,
     "metadata": {},
     "output_type": "execute_result"
    }
   ],
   "source": [
    "vacancies_df.loc[0,'description']"
   ]
  },
  {
   "cell_type": "markdown",
   "id": "5471e15b",
   "metadata": {},
   "source": [
    "Иформация о требуемых навыках находится в колонках 'key_skills' и 'description'"
   ]
  },
  {
   "cell_type": "markdown",
   "id": "936bdd2a",
   "metadata": {},
   "source": [
    "## Извлекаем навыки из колонки 'key_skills'"
   ]
  },
  {
   "cell_type": "code",
   "execution_count": 30,
   "id": "95d274fd",
   "metadata": {},
   "outputs": [
    {
     "data": {
      "text/plain": [
       "[{'name': 'Power BI'},\n",
       " {'name': 'Аналитические исследования'},\n",
       " {'name': 'Работа с данными'},\n",
       " {'name': 'Базы данных'},\n",
       " {'name': 'MS Excel'},\n",
       " {'name': 'Аналитическое мышление'}]"
      ]
     },
     "execution_count": 30,
     "metadata": {},
     "output_type": "execute_result"
    }
   ],
   "source": [
    "vacancies_df.loc[1,'key_skills']"
   ]
  },
  {
   "cell_type": "markdown",
   "id": "585e1925",
   "metadata": {},
   "source": [
    "Данные в 'key_skills' хранятся в словарях. Преобразуем их в списки."
   ]
  },
  {
   "cell_type": "markdown",
   "id": "6c5226a9",
   "metadata": {},
   "source": [
    "### Преобразуем словари в списки"
   ]
  },
  {
   "cell_type": "code",
   "execution_count": 11,
   "id": "75bbb7d4",
   "metadata": {},
   "outputs": [],
   "source": [
    "# Создаем функцию для извлечения значений 'name' из словарей\n",
    "def extract_skill_names(skill_dict):\n",
    "    return [skill['name'] for skill in skill_dict]\n",
    "\n",
    "# Применяем эту функцию к столбцу 'key_skills'\n",
    "vacancies_df['key_skills'] = vacancies_df['key_skills'].apply(extract_skill_names)"
   ]
  },
  {
   "cell_type": "code",
   "execution_count": 12,
   "id": "b36556c1",
   "metadata": {},
   "outputs": [
    {
     "data": {
      "text/plain": [
       "['SQL',\n",
       " 'Разработка технических заданий',\n",
       " 'Математическая статистика',\n",
       " 'Сбор и анализ информации',\n",
       " 'Аналитическое мышление',\n",
       " 'Анализ данных',\n",
       " 'Работа с большим объемом информации',\n",
       " 'Аналитические исследования',\n",
       " 'Python']"
      ]
     },
     "execution_count": 12,
     "metadata": {},
     "output_type": "execute_result"
    }
   ],
   "source": [
    "vacancies_df.loc[1,'key_skills']"
   ]
  },
  {
   "cell_type": "markdown",
   "id": "81101f57",
   "metadata": {},
   "source": [
    "### Посчитаем количество упоминаний навыков."
   ]
  },
  {
   "cell_type": "code",
   "execution_count": 32,
   "id": "9ce1cd0b",
   "metadata": {},
   "outputs": [],
   "source": [
    "def skills_count_fn (skills_series):\n",
    "    # Словарь для подсчета упоминаний каждого навыка\n",
    "    skills_counts = {}\n",
    "\n",
    "    # Перебераем все значения в Series\n",
    "    for skills_list in skills_series:\n",
    "        # Перебираем каждый навык в списке skills_list\n",
    "        for skill in skills_list:\n",
    "            # Если навык уже есть в словаре, увеличим его счетчик на 1\n",
    "            if skill in skills_counts:\n",
    "                skills_counts[skill] += 1\n",
    "            # В противном случае добавим навык в словарь с начальным счетчиком 1\n",
    "            else:\n",
    "                skills_counts[skill] = 1\n",
    "\n",
    "    return skills_counts"
   ]
  },
  {
   "cell_type": "code",
   "execution_count": 33,
   "id": "8ffb7c8b",
   "metadata": {},
   "outputs": [
    {
     "data": {
      "text/plain": [
       "{'Статистика, Python, SQL регрессионные алгоритмы, ML, Excel': 1,\n",
       " 'SQL': 42,\n",
       " 'Разработка технических заданий': 1,\n",
       " 'Математическая статистика': 4,\n",
       " 'Сбор и анализ информации': 14,\n",
       " 'Аналитическое мышление': 20,\n",
       " 'Анализ данных': 33,\n",
       " 'Работа с большим объемом информации': 20,\n",
       " 'Аналитические исследования': 6,\n",
       " 'Python': 24,\n",
       " 'Pandas': 1,\n",
       " 'Машинное обучение': 1,\n",
       " 'Аналитика': 12,\n",
       " 'Подготовка презентаций': 5,\n",
       " 'Tableau': 5,\n",
       " 'MS Excel': 22,\n",
       " 'Power BI': 16,\n",
       " 'Маркетинговый анализ': 1,\n",
       " 'Анализ продаж': 1,\n",
       " 'Анализ рынка': 2,\n",
       " 'Базы данных': 8,\n",
       " 'Работа с базами данных': 13,\n",
       " 'Системный анализ': 3,\n",
       " 'MS PowerPoint': 9,\n",
       " 'adhoc запросы': 1,\n",
       " 'Аналитические способности': 1,\n",
       " 'MS SQL': 7,\n",
       " 'Работа в команде': 3,\n",
       " 'Внимательность': 1,\n",
       " 'Усидчивость': 1,\n",
       " 'MS Visio': 4,\n",
       " 'CX – метрики': 3,\n",
       " 'UML': 1,\n",
       " 'СУБД': 2,\n",
       " 'Коммуникативная стратегия': 1,\n",
       " 'Big Data': 2,\n",
       " 'Machine Learning': 1,\n",
       " 'Яндекс.Метрика': 3,\n",
       " 'Clickhouse': 1,\n",
       " 'Google Analytics': 3,\n",
       " 'Пользователь ПК': 1,\n",
       " 'Грамотная речь': 2,\n",
       " 'Деловая переписка': 2,\n",
       " 'Экономический анализ': 1,\n",
       " 'Linux': 1,\n",
       " 'ORACLE': 1,\n",
       " 'PHP': 1,\n",
       " 'PostgreSQL': 2,\n",
       " 'MySQL': 2,\n",
       " 'power query': 2,\n",
       " 'Английский язык': 4,\n",
       " 'Data Analysis': 7,\n",
       " 'R': 1,\n",
       " 'A/B тесты': 4,\n",
       " 'Сегментирование аудитории': 1,\n",
       " 'CRM': 1,\n",
       " 'Excel': 2,\n",
       " 'Визуализация данных': 9,\n",
       " 'Ориентация на клиента': 1,\n",
       " 'Сводные таблицы': 2,\n",
       " 'Отчетность': 2,\n",
       " 'Клиентоориентированность': 1,\n",
       " 'Консультирование клиентов': 1,\n",
       " 'Google Docs': 2,\n",
       " 'PowerBI': 4,\n",
       " 'Data Studio': 1,\n",
       " 'Аналитика данных': 2,\n",
       " 'Data-аналитика': 1,\n",
       " 'Подготовка отчетов': 2,\n",
       " 'Деловая коммуникация': 2,\n",
       " 'ЭДО': 1,\n",
       " 'SSIS': 1,\n",
       " 'SSRS': 1,\n",
       " 'MS SQL Server': 1,\n",
       " 'Прогнозирование': 2,\n",
       " 'Системное мышление': 2,\n",
       " 'Планирование': 1,\n",
       " 'Математический анализ': 2,\n",
       " 'Деловое общение': 1,\n",
       " '1С: Производство': 1,\n",
       " '1С: Предприятие 8': 1,\n",
       " 'Управление производством': 1,\n",
       " 'Qlickview': 1,\n",
       " 'Reporting services': 1,\n",
       " 'Оперативный поиск информации в сети Интернет': 1,\n",
       " 'Работа с системами аналитики': 1,\n",
       " 'Superset': 2,\n",
       " 'Обучение и развитие': 1,\n",
       " 'коммерция': 1,\n",
       " 'ИТ': 1,\n",
       " 'Точность и внимательность к деталям': 1,\n",
       " 'Процессинг': 1,\n",
       " 'Аналитический склад ума': 1,\n",
       " 'Статистический анализ': 2,\n",
       " 'Бизнес-анализ': 1,\n",
       " 'Автоматизация процессов': 2,\n",
       " 'Transact-SQL': 1,\n",
       " 'Оптимизация запросов': 1,\n",
       " 'BI': 3,\n",
       " 'Управленческая отчетность': 1,\n",
       " 'Анализ бизнес показателей': 3,\n",
       " 'Microsoft Dynamics AX': 1,\n",
       " 'Работа в Excel': 1,\n",
       " 'VBA': 1,\n",
       " 'power pivot': 1,\n",
       " 'DAX': 1,\n",
       " 'Битрикс24': 1,\n",
       " 'Power Pivot': 1,\n",
       " 'Power Query': 3,\n",
       " 'S&OP': 1,\n",
       " 'MS Power BI': 3,\n",
       " 'Статистика': 1,\n",
       " 'Ценообразование': 1,\n",
       " 'HR-аналитика': 2,\n",
       " 'Google Sheets': 2}"
      ]
     },
     "execution_count": 33,
     "metadata": {},
     "output_type": "execute_result"
    }
   ],
   "source": [
    "skills_count=skills_count_fn(vacancies_df['key_skills'])\n",
    "skills_count"
   ]
  },
  {
   "cell_type": "markdown",
   "id": "e52dd2ea",
   "metadata": {},
   "source": [
    "### Построим график топ-20 навыков"
   ]
  },
  {
   "cell_type": "code",
   "execution_count": 34,
   "id": "71d65d2d",
   "metadata": {},
   "outputs": [
    {
     "data": {
      "image/png": "[encoded data removed]",
      "text/plain": [
       "<Figure size 1000x600 with 1 Axes>"
      ]
     },
     "metadata": {},
     "output_type": "display_data"
    }
   ],
   "source": [
    "# Сортируем словарь по значениям (количество упоминаний) от большего к меньшему\n",
    "# Навыков много, поэтому вывидем первые 20\n",
    "sorted_skills_count = dict(sorted(skills_count.items(), key=lambda item: item[1], reverse=True)[:20])\n",
    "\n",
    "# Разделим отсортированный словарь на ключи (навыки) и значения (количество упоминаний)\n",
    "skills = list(sorted_skills_count.keys())\n",
    "count = list(sorted_skills_count.values())\n",
    "\n",
    "# Создаём горизонтальную столбчатую диаграмму\n",
    "plt.figure(figsize=(10, 6))\n",
    "plt.barh(skills, count)\n",
    "\n",
    "# Настроим оси и подписи\n",
    "plt.xlabel('Количество упоминаний')\n",
    "plt.ylabel('Навык')\n",
    "plt.title('Упоминания навыков в вакансиях')\n",
    "\n",
    "# Добавим подписи значений к столбцам\n",
    "for i, v in enumerate(count):\n",
    "    plt.text(v, i, str(v))\n",
    "\n",
    "# Отобразим график\n",
    "plt.tight_layout()\n",
    "plt.show()"
   ]
  },
  {
   "cell_type": "markdown",
   "id": "fe602c83",
   "metadata": {},
   "source": [
    "## Извлекаем навыки из колонки 'description'"
   ]
  },
  {
   "cell_type": "markdown",
   "id": "52db0131",
   "metadata": {},
   "source": [
    "Посмортим ещё раз на то, как выглядит элемент 'description'"
   ]
  },
  {
   "cell_type": "code",
   "execution_count": 35,
   "id": "fb82d10d",
   "metadata": {},
   "outputs": [
    {
     "data": {
      "text/plain": [
       "'<p>Мы создали<strong> RANKS.pro</strong> — Систему оценки инвестиционной привлекательности акций. Мы анализируем более 50 000 компаний по всему миру с помощью Data Science.</p> <p>Проект динамично развивается командой профессионалов, для реализации нового проекта мы ищем Data аналитика, заинтересованного в быстром росте и долгосрочном сотрудничестве, который закроет ряд аналитических задач необходимых для успешной работы.</p> <p><strong>Обязанности:</strong></p> <ul> <li>Свод и анализ разнообразных наборов рыночных и финансовых данных.</li> <li>Поиск и проверка гипотез по улучшению качества ML-моделей</li> <li>Общение с аналитиками и совместный поиск перспективных направлений работы</li> <li>Работа, направленная на улучшение работы ML-моделей и обогащение данных для нее</li> </ul> <p>Требования:</p> <ul> <li>Знание математической статистики</li> <li>Хорошее знание Python и опыт работы с библиотеками для работы с данными и их визуализации (numpy, pandas, SciPy matplotlib, seaborn)</li> <li>Знание SQL (умение писать несложные запросы)</li> </ul> <p><br />Будет преимуществом:</p> <ul> <li>Опыт работы с ML-моделями</li> <li>Высшее образование (математическое/экономическое/техническое)</li> <li>Опыт в Data Science и промышленной разработке</li> <li>Опыт работы с финансовыми инструментами фондовой бирж</li> <li>Интерес к инвестициям</li> </ul> <strong>Условия:</strong> <ul> <li>Удалённая работа с официальным трудоустройством по ТК РФ или по контракту с НПД (самозанятые)</li> <li>Перспективы диктуются вашими амбициями и успехами</li> <li>Работа непосредственно с основателями IT-стартапа</li> </ul>'"
      ]
     },
     "execution_count": 35,
     "metadata": {},
     "output_type": "execute_result"
    }
   ],
   "source": [
    "vacancies_df.loc[3, 'description']"
   ]
  },
  {
   "cell_type": "raw",
   "id": "1778053d",
   "metadata": {},
   "source": [
    "Видно, что перечень навыков начинается с заголовка, который выделен тегом <strong>.  \n",
    "Например, <p><strong>Обязанности:</strong></p> или <p><strong>Будет преимуществом:</strong></p>"
   ]
  },
  {
   "cell_type": "markdown",
   "id": "abc65c2e",
   "metadata": {},
   "source": [
    "### Создаём функции для извлечения навыков из описания вакансий"
   ]
  },
  {
   "cell_type": "code",
   "execution_count": 36,
   "id": "75b8addf",
   "metadata": {},
   "outputs": [],
   "source": [
    "def extract_title_from(raw_block, max_title_len=40):\n",
    "    '''\n",
    "    Функция извлекает заголовок блока. Заголовком считаем текст выделенный тегом <strong>.\n",
    "    Пример <p><strong>Позиция: </strong>Аналитик данных</p>\n",
    "    '''\n",
    "    soup = BeautifulSoup(raw_block.strip(), \"html.parser\")\n",
    "    title = soup.find('strong')\n",
    "    if not title:\n",
    "        return None\n",
    "    title = title.text.replace(':','')\n",
    "    return title if len(title) <= max_title_len else None"
   ]
  },
  {
   "cell_type": "code",
   "execution_count": 37,
   "id": "88b0cab9",
   "metadata": {},
   "outputs": [],
   "source": [
    "def calculate_block_type(block_title):\n",
    "    '''\n",
    "    Функция определяет тип блока. Определяется один из типов 'secondary_skills' (дополнительные навыки) и \n",
    "    'primary_skills' (основные навыки).\n",
    "    Пример <p><strong>Позиция: </strong>Аналитик данных</p>\n",
    "    '''\n",
    "    optional_triggers = {\n",
    "        'будет преимуществом',\n",
    "        'дополнительные требования',\n",
    "        'а ещ',\n",
    "        'будет плюсом',\n",
    "        'будет большим плюсом',\n",
    "        'желательно',\n",
    "    }\n",
    "    required_triggers = {\n",
    "        'требования',\n",
    "        'от вас нужно',\n",
    "        'нужно знать',\n",
    "        'наши ожидания',\n",
    "        'мы ожидаем',\n",
    "        'ожидания от квалификации',\n",
    "        'обязанности',\n",
    "        'мы ждем от вас',\n",
    "        'требования к кандидатам',\n",
    "    }\n",
    "    for trigger in optional_triggers:\n",
    "        if trigger in block_title.lower():\n",
    "            return 'secondary_skills'\n",
    "    for trigger in required_triggers:\n",
    "        if trigger in block_title.lower():\n",
    "            return 'primary_skills'"
   ]
  },
  {
   "cell_type": "code",
   "execution_count": 38,
   "id": "826112aa",
   "metadata": {},
   "outputs": [],
   "source": [
    "def extract_technologies_from(raw_block):\n",
    "    '''\n",
    "    Функция находит навыки ('technologies') в заданном списка и возвращает их.\n",
    "    '''\n",
    "    all_technologies = [\n",
    "        'django', \n",
    "        'visio',\n",
    "        'flask',\n",
    "        'aiohttp',\n",
    "        'sqlalchemy',\n",
    "        'docker',\n",
    "        'fastapi',\n",
    "        'selenium',\n",
    "        'drf',\n",
    "        'postgresql', 'oracle pl', 'clickhouse',\n",
    "        'redis',\n",
    "        'rabbit mq',\n",
    "        'kubernetes',\n",
    "        'elastic',\n",
    "        'kafka',\n",
    "        'pandas',\n",
    "        'git',\n",
    "        'power bi', 'datalens', 'pentaho', 'powerbi',\n",
    "        'tableau', \n",
    "        'qlik', \n",
    "        'python', \n",
    "        ' r ',\n",
    "        'sql',\n",
    "        'excel' \n",
    "        'power pivot',\n",
    "        'numpy', \n",
    "        'scipy', \n",
    "        'seaborn',\n",
    "        'plotly',\n",
    "        'битрикс24', '1с',\n",
    "        'airflow',\n",
    "        'etl',\n",
    "        'ml'\n",
    "    ]\n",
    "    return [t for t in all_technologies if t in raw_block.lower()]"
   ]
  },
  {
   "cell_type": "code",
   "execution_count": 39,
   "id": "b0e7c6ac",
   "metadata": {},
   "outputs": [],
   "source": [
    "def skills_from_description (raw_vacancy):\n",
    "\n",
    "    '''\n",
    "    Функция находит блоки типов 'secondary_skills' (дополнительные навыки) и \n",
    "    'primary_skills' (основные навыки). И в них находит навыки из заданного списка.\n",
    "    '''\n",
    "\n",
    "    # Словари с триггерами и переменными для текстов\n",
    "    optional_triggers = {\n",
    "    'будет преимуществом',\n",
    "    'дополнительные требования',\n",
    "    'а ещ',\n",
    "    'будет плюсом',\n",
    "    'будет большим плюсом',\n",
    "    'желательно',\n",
    "    }\n",
    "    required_triggers = {\n",
    "    'требования',\n",
    "    'от вас нужно',\n",
    "    'нужно знать',\n",
    "    'наши ожидания',\n",
    "    'мы ожидаем',\n",
    "    'ожидания от квалификации',\n",
    "    'обязанности',\n",
    "    'мы ждем от вас',\n",
    "    'требования к кандидатам',\n",
    "    'мы ждём',\n",
    "    'что мы ждем от тебя'\n",
    "    }\n",
    "\n",
    "    # Создаем объект BeautifulSoup\n",
    "    soup = BeautifulSoup(raw_vacancy, 'html.parser')\n",
    "\n",
    "    # Список заголовков блоков\n",
    "    block_titles = soup.find_all('strong')\n",
    "\n",
    "    required_technologies = ''\n",
    "    optional_technologies = ''\n",
    "\n",
    "    # Проходим по заголовкам и соответствующим текстам\n",
    "    for block_title in block_titles:\n",
    "        block = block_title.find_next('ul')\n",
    "        #block = block_title.find_next_sibling()\n",
    "        if block:\n",
    "            block_title_text = block_title.get_text().strip().lower()\n",
    "            #print(block_title_text)\n",
    "            for trigger in optional_triggers:\n",
    "                if trigger in block_title_text:\n",
    "                    optional_technologies = extract_technologies_from(' '.join([p.get_text().strip() for p in block.find_all('li')]))\n",
    "            for trigger in required_triggers:\n",
    "                if trigger in block_title_text:\n",
    "                    required_technologies = extract_technologies_from(' '.join([p.get_text().strip() for p in block.find_all('li')]))\n",
    "    return required_technologies, optional_technologies"
   ]
  },
  {
   "cell_type": "markdown",
   "id": "c3018db5",
   "metadata": {},
   "source": [
    "### Добавим в DataFrame колонки с извлеченными навыками 'required_skills' и 'optional_skills'"
   ]
  },
  {
   "cell_type": "code",
   "execution_count": 40,
   "id": "db87a003",
   "metadata": {},
   "outputs": [],
   "source": [
    "vacancies_df[['required_skills', 'optional_skills']]=vacancies_df['description'].apply(lambda x: pd.Series(skills_from_description(x)))"
   ]
  },
  {
   "cell_type": "code",
   "execution_count": 41,
   "id": "ca998950",
   "metadata": {},
   "outputs": [
    {
     "data": {
      "text/html": [
       "<div>\n",
       "<style scoped>\n",
       "    .dataframe tbody tr th:only-of-type {\n",
       "        vertical-align: middle;\n",
       "    }\n",
       "\n",
       "    .dataframe tbody tr th {\n",
       "        vertical-align: top;\n",
       "    }\n",
       "\n",
       "    .dataframe thead th {\n",
       "        text-align: right;\n",
       "    }\n",
       "</style>\n",
       "<table border=\"1\" class=\"dataframe\">\n",
       "  <thead>\n",
       "    <tr style=\"text-align: right;\">\n",
       "      <th></th>\n",
       "      <th>required_skills</th>\n",
       "      <th>optional_skills</th>\n",
       "    </tr>\n",
       "  </thead>\n",
       "  <tbody>\n",
       "    <tr>\n",
       "      <th>0</th>\n",
       "      <td>[python, sql, ml]</td>\n",
       "      <td></td>\n",
       "    </tr>\n",
       "    <tr>\n",
       "      <th>1</th>\n",
       "      <td></td>\n",
       "      <td></td>\n",
       "    </tr>\n",
       "    <tr>\n",
       "      <th>2</th>\n",
       "      <td>[]</td>\n",
       "      <td></td>\n",
       "    </tr>\n",
       "    <tr>\n",
       "      <th>3</th>\n",
       "      <td>[ml]</td>\n",
       "      <td></td>\n",
       "    </tr>\n",
       "    <tr>\n",
       "      <th>4</th>\n",
       "      <td></td>\n",
       "      <td></td>\n",
       "    </tr>\n",
       "    <tr>\n",
       "      <th>...</th>\n",
       "      <td>...</td>\n",
       "      <td>...</td>\n",
       "    </tr>\n",
       "    <tr>\n",
       "      <th>95</th>\n",
       "      <td>[pandas, git, python, sql, numpy]</td>\n",
       "      <td></td>\n",
       "    </tr>\n",
       "    <tr>\n",
       "      <th>96</th>\n",
       "      <td>[sqlalchemy, postgresql, pandas, python, sql]</td>\n",
       "      <td></td>\n",
       "    </tr>\n",
       "    <tr>\n",
       "      <th>97</th>\n",
       "      <td>[]</td>\n",
       "      <td></td>\n",
       "    </tr>\n",
       "    <tr>\n",
       "      <th>98</th>\n",
       "      <td>[]</td>\n",
       "      <td></td>\n",
       "    </tr>\n",
       "    <tr>\n",
       "      <th>99</th>\n",
       "      <td></td>\n",
       "      <td></td>\n",
       "    </tr>\n",
       "  </tbody>\n",
       "</table>\n",
       "<p>100 rows × 2 columns</p>\n",
       "</div>"
      ],
      "text/plain": [
       "                                  required_skills optional_skills\n",
       "0                               [python, sql, ml]                \n",
       "1                                                                \n",
       "2                                              []                \n",
       "3                                            [ml]                \n",
       "4                                                                \n",
       "..                                            ...             ...\n",
       "95              [pandas, git, python, sql, numpy]                \n",
       "96  [sqlalchemy, postgresql, pandas, python, sql]                \n",
       "97                                             []                \n",
       "98                                             []                \n",
       "99                                                               \n",
       "\n",
       "[100 rows x 2 columns]"
      ]
     },
     "execution_count": 41,
     "metadata": {},
     "output_type": "execute_result"
    }
   ],
   "source": [
    "vacancies_df[['required_skills', 'optional_skills']]"
   ]
  },
  {
   "cell_type": "code",
   "execution_count": 42,
   "id": "6b6fbfe9",
   "metadata": {},
   "outputs": [
    {
     "data": {
      "text/plain": [
       "54"
      ]
     },
     "execution_count": 42,
     "metadata": {},
     "output_type": "execute_result"
    }
   ],
   "source": [
    "# считаем сколько вакансий имеют 'required_skills'\n",
    "vacancies_df[vacancies_df['required_skills'].apply(len) != 0]['key_skills'].count()"
   ]
  },
  {
   "cell_type": "code",
   "execution_count": 43,
   "id": "23b3db8c",
   "metadata": {},
   "outputs": [
    {
     "data": {
      "text/plain": [
       "4"
      ]
     },
     "execution_count": 43,
     "metadata": {},
     "output_type": "execute_result"
    }
   ],
   "source": [
    "# считаем сколько вакансий имеют 'optional_skills'\n",
    "vacancies_df[vacancies_df['optional_skills'].apply(len) != 0]['key_skills'].count()"
   ]
  },
  {
   "cell_type": "code",
   "execution_count": 44,
   "id": "5a17426b",
   "metadata": {},
   "outputs": [
    {
     "data": {
      "text/plain": [
       "['python', 'sql', 'ml']"
      ]
     },
     "execution_count": 44,
     "metadata": {},
     "output_type": "execute_result"
    }
   ],
   "source": [
    "vacancies_df.loc[0,'required_skills']"
   ]
  },
  {
   "cell_type": "markdown",
   "id": "a4246b13",
   "metadata": {},
   "source": [
    "### Посчитаем количество упоминаний навыков в колнке 'required_skills'"
   ]
  },
  {
   "cell_type": "code",
   "execution_count": 45,
   "id": "69505eff",
   "metadata": {},
   "outputs": [
    {
     "data": {
      "text/plain": [
       "{'python': 23,\n",
       " 'sql': 49,\n",
       " 'ml': 4,\n",
       " 'power bi': 14,\n",
       " 'postgresql': 4,\n",
       " 'oracle pl': 1,\n",
       " 'etl': 7,\n",
       " 'pandas': 5,\n",
       " 'git': 3,\n",
       " 'numpy': 4,\n",
       " 'scipy': 1,\n",
       " 'seaborn': 1,\n",
       " 'visio': 3,\n",
       " 'clickhouse': 4,\n",
       " 'tableau': 7,\n",
       " 'docker': 1,\n",
       " 'datalens': 2,\n",
       " 'airflow': 2,\n",
       " 'powerbi': 2,\n",
       " 'qlik': 2,\n",
       " ' r ': 1,\n",
       " '1с': 3,\n",
       " 'битрикс24': 1,\n",
       " 'sqlalchemy': 1}"
      ]
     },
     "execution_count": 45,
     "metadata": {},
     "output_type": "execute_result"
    }
   ],
   "source": [
    "desc_skills_count=skills_count_fn(vacancies_df['required_skills'])\n",
    "desc_skills_count"
   ]
  },
  {
   "cell_type": "markdown",
   "id": "7ee86983",
   "metadata": {},
   "source": [
    "### Построим график навыков, извлеченных из описания"
   ]
  },
  {
   "cell_type": "code",
   "execution_count": 47,
   "id": "56933806",
   "metadata": {},
   "outputs": [
    {
     "data": {
      "image/png": "[encoded data removed]",
      "text/plain": [
       "<Figure size 1000x600 with 1 Axes>"
      ]
     },
     "metadata": {},
     "output_type": "display_data"
    }
   ],
   "source": [
    "# Сортируем словарь по значениям (количество упоминаний) от большего к меньшему\n",
    "sorted_skills_count = dict(sorted(desc_skills_count.items(), key=lambda item: item[1], reverse=True))\n",
    "\n",
    "# Разделим отсортированный словарь на ключи (навыки) и значения (количество упоминаний)\n",
    "skills = list(sorted_skills_count.keys())\n",
    "count = list(sorted_skills_count.values())\n",
    "\n",
    "# Создаём горизонтальную столбчатую диаграмму\n",
    "plt.figure(figsize=(10, 6))\n",
    "plt.barh(skills, count)\n",
    "\n",
    "# Настроим оси и подписи\n",
    "plt.xlabel('Количество упоминаний')\n",
    "plt.ylabel('Навык')\n",
    "plt.title('Упоминания навыков в вакансиях в описании')\n",
    "\n",
    "# Добавим подписи значений к столбцам\n",
    "for i, v in enumerate(count):\n",
    "    plt.text(v, i, str(v))\n",
    "\n",
    "# Отобразим график\n",
    "plt.tight_layout()\n",
    "plt.show()"
   ]
  },
  {
   "cell_type": "markdown",
   "id": "f52a475c",
   "metadata": {},
   "source": [
    "## Источники  информации"
   ]
  },
  {
   "cell_type": "markdown",
   "id": "7f9fdd56",
   "metadata": {},
   "source": [
    "- [Код](https://gist.github.com/Melevir/584067acc05d6b82bd2ae76af346abf1) от Ильи Лебедева (Melevir) частично использован в этой тетрадке. \n",
    "- Также можно посмотреть примеры исследования вакансий [здесь](https://github.com/hukenovs/hh_research/).\n",
    "- [Документация API HeadHunter hh.ru](https://github.com/hhru/api)  \n",
    "<br>\n",
    "<br>\n",
    "Если Вы воспользовались этой тетрадкой и Вам пригодился рузльтат или просто понравилось, то отметьте её, пожалуйста, звездой."
   ]
  }
 ],
 "metadata": {
  "kernelspec": {
   "display_name": "Python 3 (ipykernel)",
   "language": "python",
   "name": "python3"
  },
  "language_info": {
   "codemirror_mode": {
    "name": "ipython",
    "version": 3
   },
   "file_extension": ".py",
   "mimetype": "text/x-python",
   "name": "python",
   "nbconvert_exporter": "python",
   "pygments_lexer": "ipython3",
   "version": "3.11.3"
  }
 },
 "nbformat": 4,
 "nbformat_minor": 5
}
